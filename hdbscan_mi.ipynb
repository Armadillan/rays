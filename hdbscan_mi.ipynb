{
 "cells": [
  {
   "cell_type": "code",
   "execution_count": 1,
   "id": "brutal-incentive",
   "metadata": {},
   "outputs": [],
   "source": [
    "import os\n",
    "import time\n",
    "from io import StringIO\n",
    "import pickle\n",
    "\n",
    "import pandas as pd\n",
    "import numpy as np\n",
    "import matplotlib.pyplot as plt\n",
    "import seaborn as sns\n",
    "\n",
    "import keyfi as kf\n",
    "from keyfi.cluster import HDBSCAN"
   ]
  },
  {
   "cell_type": "code",
   "execution_count": 2,
   "id": "tracked-albuquerque",
   "metadata": {},
   "outputs": [],
   "source": [
    "DATA_PATH = \"/home/azureuser/project/data/plane\"\n",
    "EMBEDDINGS_PATH = \"/home/azureuser/project/data/embeddings/all_snapshots/250_0.1_300c\"\n",
    "CLUSTERERS_PATH = \"/home/azureuser/project/data/clusterers/all_snapshots/250_0.1_300c\"\n",
    "MI_SCORES_PATH = \"/home/azureuser/project/data/mi_scores/all_snapshots/250_0.1_300c\"\n",
    "\n",
    "os.makedirs(CLUSTERERS_PATH, exist_ok=True)\n",
    "os.makedirs(MI_SCORES_PATH, exist_ok=True)"
   ]
  },
  {
   "cell_type": "markdown",
   "id": "worthy-france",
   "metadata": {},
   "source": [
    "HDBSCAN"
   ]
  },
  {
   "cell_type": "code",
   "execution_count": 3,
   "id": "electoral-anger",
   "metadata": {},
   "outputs": [
    {
     "data": {
      "text/plain": [
       "'\\nfor index, snapshot_embedding in enumerate(os.listdir(EMBEDDINGS_PATH)):\\n    snapshot = snapshot_embedding[:-4]\\n    \\n    embedding = np.load(os.path.join(EMBEDDINGS_PATH, snapshot_embedding))\\n    \\n    clusterer = kf.cluster_embedding(\\n    embedding=embedding,\\n    algorithm=HDBSCAN,\\n    min_cluster_size=300,\\n    min_samples=10,\\n    )\\n    \\n    with open(os.path.join(CLUSTERERS_PATH, snapshot + \".pickle\"), \"wb\") as file:\\n        pickle.dump(clusterer, file)\\n        \\n    print(f\"{(index + 1) / 8.66:.2f}\")\\n'"
      ]
     },
     "execution_count": 3,
     "metadata": {},
     "output_type": "execute_result"
    }
   ],
   "source": [
    "\"\"\"\n",
    "for index, snapshot_embedding in enumerate(os.listdir(EMBEDDINGS_PATH)):\n",
    "    snapshot = snapshot_embedding[:-4]\n",
    "    \n",
    "    embedding = np.load(os.path.join(EMBEDDINGS_PATH, snapshot_embedding))\n",
    "    \n",
    "    clusterer = kf.cluster_embedding(\n",
    "    embedding=embedding,\n",
    "    algorithm=HDBSCAN,\n",
    "    min_cluster_size=300,\n",
    "    min_samples=10,\n",
    "    )\n",
    "    \n",
    "    with open(os.path.join(CLUSTERERS_PATH, snapshot + \".pickle\"), \"wb\") as file:\n",
    "        pickle.dump(clusterer, file)\n",
    "        \n",
    "    print(f\"{(index + 1) / 8.66:.2f}\")\n",
    "\"\"\""
   ]
  },
  {
   "cell_type": "code",
   "execution_count": null,
   "id": "placed-juice",
   "metadata": {},
   "outputs": [
    {
     "name": "stdout",
     "output_type": "stream",
     "text": [
      "1/866: 286196.078369\n",
      "0.115%\n",
      "time: 25.309619426727295\n",
      "2/866: 286266.578369\n"
     ]
    }
   ],
   "source": [
    "for index, clusterer_filename in enumerate(os.listdir(CLUSTERERS_PATH)):\n",
    "    \n",
    "    start_time = time.time()\n",
    "    \n",
    "    snapshot = clusterer_filename[:-7]\n",
    "    print(f\"{index+1}/866: {snapshot}\")\n",
    "    \n",
    "    snapshot_mi_scores = {}\n",
    "    \n",
    "    with open(os.path.join(CLUSTERERS_PATH, clusterer_filename), \"rb\") as file:\n",
    "        clusterer = pickle.load(file)\n",
    "    \n",
    "    embedding = np.load(os.path.join(EMBEDDINGS_PATH, snapshot + \".npy\"))\n",
    "    \n",
    "    data, _ = kf.import_vtk_data(\n",
    "        os.path.join(DATA_PATH, snapshot, \"data.vtk\")\n",
    "    )\n",
    "    \n",
    "    for cluster in np.unique(clusterer.labels_):\n",
    "        snapshot_mi_scores[cluster] = kf.get_cluster_mi_scores(\n",
    "            data=data,\n",
    "            clusterer=clusterer,\n",
    "            embedding=embedding,\n",
    "            cluster_num=cluster,\n",
    "            scale=False,\n",
    "            flag_print=False,\n",
    "            flag_plot = False,\n",
    "        )\n",
    "    \n",
    "    with open(os.path.join(MI_SCORES_PATH, snapshot + \".pickle\"), \"wb\") as file:\n",
    "        pickle.dump(snapshot_mi_scores, file)\n",
    "        \n",
    "    print(f\"{(index+1)/8.66:.3f}%\")\n",
    "    print(f\"time: {time.time()-start_time}\")"
   ]
  }
 ],
 "metadata": {
  "kernelspec": {
   "display_name": "Python 3",
   "language": "python",
   "name": "python3"
  },
  "language_info": {
   "codemirror_mode": {
    "name": "ipython",
    "version": 3
   },
   "file_extension": ".py",
   "mimetype": "text/x-python",
   "name": "python",
   "nbconvert_exporter": "python",
   "pygments_lexer": "ipython3",
   "version": "3.8.8"
  }
 },
 "nbformat": 4,
 "nbformat_minor": 5
}
