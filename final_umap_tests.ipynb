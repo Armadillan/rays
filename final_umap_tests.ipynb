{
 "cells": [
  {
   "cell_type": "code",
   "execution_count": 19,
   "id": "constitutional-defense",
   "metadata": {},
   "outputs": [],
   "source": [
    "import os\n",
    "import time\n",
    "from io import StringIO\n",
    "\n",
    "import pandas as pd\n",
    "import numpy as np\n",
    "import matplotlib.pyplot as plt\n",
    "import seaborn as sns\n",
    "\n",
    "import keyfi as kf\n",
    "from keyfi.dimred import UMAP\n",
    "from keyfi.cluster import HDBSCAN\n",
    "\n",
    "from sklearn.preprocessing import StandardScaler, MaxAbsScaler\n"
   ]
  },
  {
   "cell_type": "code",
   "execution_count": 20,
   "id": "detailed-beginning",
   "metadata": {},
   "outputs": [],
   "source": [
    "DATA_PATH = \"/home/azureuser/project/data/plane\"\n",
    "SNAPSHOT = \"285140.078369\"\n",
    "\n",
    "#savepaths\n",
    "TEST_NAME = \"no_species_scaling_final_umap\"\n",
    "\n",
    "figpath = os.path.join(\"/home/azureuser/project/figures\", TEST_NAME)\n",
    "embedding_path = os.path.join(\"/home/azureuser/project/data/embeddings\", TEST_NAME, SNAPSHOT)\n",
    "\n",
    "os.makedirs(figpath, exist_ok=True)\n",
    "os.makedirs(embedding_path, exist_ok=True)"
   ]
  },
  {
   "cell_type": "code",
   "execution_count": 21,
   "id": "accepting-fighter",
   "metadata": {},
   "outputs": [],
   "source": [
    "def get_data(snapshot):\n",
    "    return kf.import_vtk_data(\n",
    "        os.path.join(DATA_PATH, snapshot, \"data.vtk\")\n",
    "    )"
   ]
  },
  {
   "cell_type": "code",
   "execution_count": 22,
   "id": "quality-tobago",
   "metadata": {},
   "outputs": [],
   "source": [
    "df, mesh = get_data(SNAPSHOT)\n",
    "\n",
    "df = pd.read_csv(StringIO(df.to_csv()), index_col=0)\n",
    "\n",
    "cleaned_data = kf.clean_data(df, dim=2,\n",
    "                             vars_to_drop=[\"N2\", \"NO2\", \"rho\"]\n",
    "                            )"
   ]
  },
  {
   "cell_type": "code",
   "execution_count": 25,
   "id": "external-participant",
   "metadata": {},
   "outputs": [],
   "source": [
    "data200 = cleaned_data.copy()\n",
    "data200[\"Qdot\"].clip(-200, 200, inplace=True)\n",
    "\n",
    "data300 = cleaned_data.copy()\n",
    "data300[\"Qdot\"].clip(-300, 300, inplace=True)\n",
    "\n",
    "data400 = cleaned_data.copy()\n",
    "data400[\"Qdot\"].clip(-400, 400, inplace=True)"
   ]
  },
  {
   "cell_type": "code",
   "execution_count": 26,
   "id": "annual-musical",
   "metadata": {},
   "outputs": [
    {
     "data": {
      "text/plain": [
       "['T', 'Qdot', ['U:0', 'U:1']]"
      ]
     },
     "execution_count": 26,
     "metadata": {},
     "output_type": "execute_result"
    }
   ],
   "source": [
    "features_combined_U = [feature for feature in cleaned_data.columns[:-2]] + [[\"U:0\", \"U:1\"]]\n",
    "features_combined_U.remove(\"N2O4\")\n",
    "features_no_U = [feature for feature in cleaned_data.columns[:-2]]\n",
    "features_no_U.remove(\"N2O4\")\n",
    "\n",
    "scalers_combined_U = [MaxAbsScaler] * 3\n",
    "scalers_no_U = [MaxAbsScaler] * 2\n",
    "features_combined_U"
   ]
  },
  {
   "cell_type": "code",
   "execution_count": 27,
   "id": "dietary-humidity",
   "metadata": {},
   "outputs": [],
   "source": [
    "data200c = kf.scale_data(data200, features_combined_U, scalers_combined_U)\n",
    "data300c = kf.scale_data(data300, features_combined_U, scalers_combined_U)\n",
    "\n",
    "data200n = kf.scale_data(data200, features_no_U, scalers_no_U)\n",
    "data300n = kf.scale_data(data300, features_no_U, scalers_no_U)\n",
    "data400n = kf.scale_data(data400, features_no_U, scalers_no_U)"
   ]
  },
  {
   "cell_type": "code",
   "execution_count": 28,
   "id": "genuine-costs",
   "metadata": {},
   "outputs": [],
   "source": [
    "#n_neighbours, min_distance, data, description\n",
    "param_sets = [\n",
    "    [300, 0.1, data300c, \"300c\"],\n",
    "    [300, 0.05, data300c, \"300c\"],\n",
    "    [300, 0.1, data200c, \"200c\"],\n",
    "    [250, 0.1, data300c, \"300c\"],\n",
    "    [300, 0.1, data200c, \"200c\"],\n",
    "    [200, 0.1, data200n, \"200n\"],\n",
    "    [250, 0.1, data200n, \"200n\"],\n",
    "    [250, 0.1, data300n, \"300n\"],\n",
    "    [250, 0.05, data400n, \"400n\"],\n",
    "    [300, 0.1, data300n, \"300n\"],\n",
    "    [150, 0.1, data200c, \"200c\"],\n",
    "    [200, 0.1, data300c, \"300c\"],\n",
    "    [150, 0.1, data400n, \"400n\"],\n",
    "    [250, 0.05, data400n, \"400n\"],\n",
    "    [300, 0.1, data400n, \"400n\"],\n",
    "]"
   ]
  },
  {
   "cell_type": "code",
   "execution_count": null,
   "id": "intermediate-tragedy",
   "metadata": {},
   "outputs": [
    {
     "name": "stdout",
     "output_type": "stream",
     "text": [
      "300 0.1 300c\n",
      "time: 183.11263132095337\n",
      "300 0.05 300c\n",
      "time: 183.32432866096497\n",
      "300 0.1 200c\n"
     ]
    }
   ],
   "source": [
    "saved_embeddings = os.listdir(embedding_path)\n",
    "\n",
    "for params in param_sets:\n",
    "    start_time = time.time()\n",
    "\n",
    "    print(params[0], params[1], params[3])\n",
    "\n",
    "    if f\"{params[0]}_{params[1]}_{params[3]}.npy\" in saved_embeddings:\n",
    "        embedding = np.load(\n",
    "            os.path.join(embedding_path, f\"{params[0]}_{params[1]}_{params[3]}.npy\")\n",
    "            )\n",
    "        print(\"loaded from existing\")\n",
    "\n",
    "    else:\n",
    "\n",
    "        embedding, mapper = kf.embed_data(\n",
    "            data=params[2],\n",
    "            algorithm=UMAP,\n",
    "            n_neighbors=params[0],\n",
    "            min_dist=params[1],\n",
    "            #ensures reproducibility, disable for faster compute\n",
    "            random_state=0,\n",
    "            #how many dimensions to reduce to\n",
    "            n_components=2,\n",
    "        )\n",
    "\n",
    "        np.save(\n",
    "            os.path.join(embedding_path, f\"{params[0]}_{params[1]}_{params[3]}\"),\n",
    "            embedding\n",
    "        )\n",
    "\n",
    "    print(\"time:\", time.time()-start_time)"
   ]
  }
 ],
 "metadata": {
  "kernelspec": {
   "display_name": "Python 3",
   "language": "python",
   "name": "python3"
  },
  "language_info": {
   "codemirror_mode": {
    "name": "ipython",
    "version": 3
   },
   "file_extension": ".py",
   "mimetype": "text/x-python",
   "name": "python",
   "nbconvert_exporter": "python",
   "pygments_lexer": "ipython3",
   "version": "3.8.8"
  }
 },
 "nbformat": 4,
 "nbformat_minor": 5
}
