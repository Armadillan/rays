{
 "cells": [
  {
   "cell_type": "code",
   "execution_count": 1,
   "id": "rotary-soccer",
   "metadata": {},
   "outputs": [],
   "source": [
    "import os\n",
    "import time\n",
    "\n",
    "import pandas as pd\n",
    "import numpy as np\n",
    "import matplotlib.pyplot as plt\n",
    "import seaborn as sns\n",
    "\n",
    "import keyfi as kf\n",
    "from keyfi.dimred import UMAP\n",
    "from keyfi.cluster import HDBSCAN\n"
   ]
  },
  {
   "cell_type": "code",
   "execution_count": null,
   "id": "advisory-audience",
   "metadata": {},
   "outputs": [
    {
     "name": "stdout",
     "output_type": "stream",
     "text": [
      "Starting embedding\n",
      "50 0.05\n",
      "loaded from existing\n",
      "creating plots\n"
     ]
    },
    {
     "name": "stderr",
     "output_type": "stream",
     "text": [
      "/home/azureuser/rays/keyfi/keyfi/plot.py:106: UserWarning: This figure includes Axes that are not compatible with tight_layout, so results might be incorrect.\n",
      "  plt.tight_layout()\n"
     ]
    },
    {
     "name": "stdout",
     "output_type": "stream",
     "text": [
      "time: 5.44 s\n",
      "50 0.1\n",
      "creating plots\n"
     ]
    },
    {
     "name": "stderr",
     "output_type": "stream",
     "text": [
      "/home/azureuser/rays/keyfi/keyfi/plot.py:106: UserWarning: This figure includes Axes that are not compatible with tight_layout, so results might be incorrect.\n",
      "  plt.tight_layout()\n"
     ]
    },
    {
     "name": "stdout",
     "output_type": "stream",
     "text": [
      "time: 67.45 s\n",
      "400 0.05\n"
     ]
    }
   ],
   "source": [
    "\n",
    "DATA_PATH = \"/home/azureuser/rays/data/plane\"\n",
    "\n",
    "def get_data(snapshot):\n",
    "    return kf.import_vtk_data(\n",
    "        os.path.join(DATA_PATH, snapshot, \"data.vtk\")\n",
    "    )\n",
    "\n",
    "SNAPSHOT = \"285140.078369\"\n",
    "\n",
    "df, mesh = get_data(SNAPSHOT)\n",
    "\n",
    "cleaned_data = kf.clean_data(df, dim=2,\n",
    "                             vars_to_drop=[\"N2\", \"NO2\", \"rho\"]\n",
    "                            )\n",
    "\n",
    "variables = cleaned_data.columns\n",
    "\n",
    "print(\"Starting embedding\")\n",
    "\n",
    "#savepaths\n",
    "figpath=\"/home/azureuser/rays/figures/test\"\n",
    "embedding_path = os.path.join(\"/home/azureuser/rays/data/embeddings\", SNAPSHOT)\n",
    "\n",
    "os.makedirs(figpath, exist_ok=True)\n",
    "os.makedirs(embedding_path, exist_ok=True)\n",
    "\n",
    "saved_embeddings = os.listdir(embedding_path)\n",
    "\n",
    "#UMAP\n",
    "n_neighbors_range = [50, 400]\n",
    "min_dist_range = [0.05, 0.1]\n",
    "\n",
    "for n_neighbors in n_neighbors_range:\n",
    "    for min_dist in min_dist_range:\n",
    "\n",
    "        start_time = time.time()\n",
    "\n",
    "        print(n_neighbors, min_dist)\n",
    "\n",
    "        if f\"{n_neighbors}_{min_dist}.npy\" in saved_embeddings:\n",
    "            embedding = np.load(\n",
    "                os.path.join(embedding_path, f\"{n_neighbors}_{min_dist}.npy\")\n",
    "                )\n",
    "            print(\"loaded from existing\")\n",
    "\n",
    "        else:\n",
    "\n",
    "            embedding, mapper = kf.embed_data(\n",
    "                data=cleaned_data,\n",
    "                algorithm=UMAP,\n",
    "                scale=True,\n",
    "                n_neighbors=n_neighbors,\n",
    "                min_dist=min_dist,\n",
    "                #ensures reproducibility, disable for faster compute\n",
    "                # random_state=0,\n",
    "                #how many dimensions to reduce to\n",
    "                n_components=2,\n",
    "            )\n",
    "\n",
    "            np.save(\n",
    "                os.path.join(embedding_path, f\"{n_neighbors}_{min_dist}\"),\n",
    "                embedding\n",
    "            )\n",
    "\n",
    "        print(\"creating plots\")\n",
    "\n",
    "        for var in variables:\n",
    "\n",
    "            if var == \"Qdot\":\n",
    "                cmap_minmax=(-300, 300)\n",
    "            else:\n",
    "                cmap_minmax=[]\n",
    "\n",
    "            kf.plot_embedding(\n",
    "                embedding=embedding,\n",
    "                data=cleaned_data,\n",
    "                scale_points = True,\n",
    "                cmap_var=var,\n",
    "                cmap_minmax=cmap_minmax,\n",
    "                save=True,\n",
    "                title=f\"{n_neighbors}_{min_dist}_{var}\",\n",
    "                figname=f\"{n_neighbors}_{min_dist}_{var}\",\n",
    "                figpath=figpath,\n",
    "                view=(None, None)\n",
    "            )\n",
    "\n",
    "        print(f\"time: {(time.time()-start_time):.2f} s\")\n"
   ]
  },
  {
   "cell_type": "code",
   "execution_count": null,
   "id": "composite-pontiac",
   "metadata": {},
   "outputs": [],
   "source": []
  }
 ],
 "metadata": {
  "kernelspec": {
   "display_name": "Python 3",
   "language": "python",
   "name": "python3"
  },
  "language_info": {
   "codemirror_mode": {
    "name": "ipython",
    "version": 3
   },
   "file_extension": ".py",
   "mimetype": "text/x-python",
   "name": "python",
   "nbconvert_exporter": "python",
   "pygments_lexer": "ipython3",
   "version": "3.8.8"
  }
 },
 "nbformat": 4,
 "nbformat_minor": 5
}
