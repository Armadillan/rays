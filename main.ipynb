{
 "cells": [
  {
   "cell_type": "code",
   "execution_count": 6,
   "id": "rotary-soccer",
   "metadata": {},
   "outputs": [],
   "source": [
    "import os\n",
    "import time\n",
    "from io import StringIO\n",
    "\n",
    "import pandas as pd\n",
    "import numpy as np\n",
    "import matplotlib.pyplot as plt\n",
    "import seaborn as sns\n",
    "\n",
    "import keyfi as kf\n",
    "from keyfi.dimred import UMAP\n",
    "from keyfi.cluster import HDBSCAN\n",
    "\n",
    "from sklearn.preprocessing import StandardScaler, MaxAbsScaler\n"
   ]
  },
  {
   "cell_type": "markdown",
   "id": "homeless-finder",
   "metadata": {},
   "source": [
    "params"
   ]
  },
  {
   "cell_type": "code",
   "execution_count": 7,
   "id": "attempted-copying",
   "metadata": {},
   "outputs": [],
   "source": [
    "DATA_PATH = \"/home/azureuser/project/data/plane\"\n",
    "SNAPSHOT = \"285140.078369\"\n",
    "\n",
    "#savepaths\n",
    "figpath=\"/home/azureuser/project/figures/scaling_test4_scale_U_ind\"\n",
    "embedding_path = os.path.join(\"/home/azureuser/project/data/embeddings/scaling_test4_scale_U_ind\", SNAPSHOT)\n",
    "\n",
    "os.makedirs(figpath, exist_ok=True)\n",
    "os.makedirs(embedding_path, exist_ok=True)"
   ]
  },
  {
   "cell_type": "markdown",
   "id": "sticky-scientist",
   "metadata": {},
   "source": [
    "helper functions"
   ]
  },
  {
   "cell_type": "code",
   "execution_count": 8,
   "id": "fifteen-declaration",
   "metadata": {},
   "outputs": [],
   "source": [
    "def get_data(snapshot):\n",
    "    return kf.import_vtk_data(\n",
    "        os.path.join(DATA_PATH, snapshot, \"data.vtk\")\n",
    "    )"
   ]
  },
  {
   "cell_type": "markdown",
   "id": "other-handling",
   "metadata": {},
   "source": [
    "data prep"
   ]
  },
  {
   "cell_type": "code",
   "execution_count": 9,
   "id": "unknown-hydrogen",
   "metadata": {},
   "outputs": [
    {
     "data": {
      "text/plain": [
       "Index(['T', 'N2O4', 'Qdot', 'U:0', 'U:1'], dtype='object')"
      ]
     },
     "execution_count": 9,
     "metadata": {},
     "output_type": "execute_result"
    }
   ],
   "source": [
    "df, mesh = get_data(SNAPSHOT)\n",
    "\n",
    "df = pd.read_csv(StringIO(df.to_csv()), index_col=0)\n",
    "\n",
    "cleaned_data = kf.clean_data(df, dim=2,\n",
    "                             vars_to_drop=[\"N2\", \"NO2\", \"rho\"]\n",
    "                            )\n",
    "\n",
    "features = cleaned_data.columns\n",
    "standard_scalers = [StandardScaler] * len(cleaned_data.columns)\n",
    "maxabs_scalers = [MaxAbsScaler] * len(cleaned_data.columns)\n",
    "\n",
    "features"
   ]
  },
  {
   "cell_type": "markdown",
   "id": "embedded-reaction",
   "metadata": {},
   "source": [
    "UMAP params"
   ]
  },
  {
   "cell_type": "code",
   "execution_count": 10,
   "id": "indie-monte",
   "metadata": {},
   "outputs": [],
   "source": [
    "n_neighbors_range = [200, 250, 300, 150]\n",
    "min_dist_range = [0.1, 0.05]"
   ]
  },
  {
   "cell_type": "markdown",
   "id": "excellent-mercy",
   "metadata": {},
   "source": [
    "scaling"
   ]
  },
  {
   "cell_type": "code",
   "execution_count": 11,
   "id": "satisfied-message",
   "metadata": {},
   "outputs": [],
   "source": [
    "cleaned_data300 = cleaned_data.copy()\n",
    "cleaned_data300[\"Qdot\"].clip(-300, 300, inplace=True)\n",
    "\n",
    "cleaned_data200 = cleaned_data.copy()\n",
    "cleaned_data200[\"Qdot\"].clip(-200, 200, inplace=True)\n",
    "\n",
    "cleaned_data400 = cleaned_data.copy()\n",
    "cleaned_data400[\"Qdot\"].clip(-400, 400, inplace=True)"
   ]
  },
  {
   "cell_type": "code",
   "execution_count": 12,
   "id": "marked-chaos",
   "metadata": {},
   "outputs": [],
   "source": [
    "maxabs200 = kf.scale_data(cleaned_data200, features, maxabs_scalers)\n",
    "maxabs300 = kf.scale_data(cleaned_data300, features, maxabs_scalers)\n",
    "maxabs400 = kf.scale_data(cleaned_data400, features, maxabs_scalers)"
   ]
  },
  {
   "cell_type": "markdown",
   "id": "incident-minimum",
   "metadata": {},
   "source": [
    "dimred"
   ]
  },
  {
   "cell_type": "code",
   "execution_count": null,
   "id": "optimum-labor",
   "metadata": {},
   "outputs": [
    {
     "name": "stdout",
     "output_type": "stream",
     "text": [
      "200 0.1 maxabs200\n",
      "time: 117.91648769378662\n",
      "200 0.05 maxabs200\n",
      "time: 106.11140036582947\n",
      "200 0.1 maxabs300\n",
      "time: 102.9315574169159\n",
      "200 0.05 maxabs300\n",
      "time: 101.54374718666077\n",
      "200 0.1 maxabs400\n"
     ]
    }
   ],
   "source": [
    "saved_embeddings = os.listdir(embedding_path)\n",
    "\n",
    "for n_neighbors in n_neighbors_range:\n",
    "    for data, scaling in zip((maxabs200, maxabs300, maxabs400), (\"maxabs200\", \"maxabs300\", \"maxabs400\")):\n",
    "        for min_dist in min_dist_range:\n",
    "\n",
    "            start_time = time.time()\n",
    "\n",
    "            print(n_neighbors, min_dist, scaling)\n",
    "\n",
    "            if f\"{n_neighbors}_{min_dist}_{scaling}.npy\" in saved_embeddings:\n",
    "                embedding = np.load(\n",
    "                    os.path.join(embedding_path, f\"{n_neighbors}_{min_dist}_{scaling}.npy\")\n",
    "                    )\n",
    "                print(\"loaded from existing\")\n",
    "\n",
    "            else:\n",
    "\n",
    "                embedding, mapper = kf.embed_data(\n",
    "                    data=data,\n",
    "                    algorithm=UMAP,\n",
    "                    n_neighbors=n_neighbors,\n",
    "                    min_dist=min_dist,\n",
    "                    #ensures reproducibility, disable for faster compute\n",
    "                    # random_state=0,\n",
    "                    #how many dimensions to reduce to\n",
    "                    n_components=2,\n",
    "                )\n",
    "\n",
    "                np.save(\n",
    "                    os.path.join(embedding_path, f\"{n_neighbors}_{min_dist}_{scaling}\"),\n",
    "                    embedding\n",
    "                )\n",
    "\n",
    "            print(\"time:\", time.time()-start_time)\n"
   ]
  },
  {
   "cell_type": "markdown",
   "id": "white-inquiry",
   "metadata": {},
   "source": [
    "make figures"
   ]
  },
  {
   "cell_type": "code",
   "execution_count": null,
   "id": "reduced-marsh",
   "metadata": {},
   "outputs": [],
   "source": [
    "df, mesh = get_data(SNAPSHOT)\n",
    "\n",
    "df = pd.read_csv(StringIO(df.to_csv()), index_col=0)\n",
    "\n",
    "cleaned_data = kf.clean_data(df, dim=2,\n",
    "                             vars_to_drop=[\"N2\", \"NO2\", \"rho\"]\n",
    "                            )\n",
    "\n",
    "for n_neighbors in n_neighbors_range:\n",
    "    for min_dist in min_dist_range:\n",
    "        for scaling in (\"maxabs200\", \"maxabs300\", \"maxabs400\"):\n",
    "            \n",
    "            embedding = np.load(\n",
    "                os.path.join(embedding_path, f\"{n_neighbors}_{min_dist}_{scaling}.npy\")\n",
    "                )\n",
    "            \n",
    "            for var in cleaned_data.columns:\n",
    "            \n",
    "                if var == \"Qdot\":\n",
    "                    if \"200\" in scaling:\n",
    "                        cmap_minmax=[-200, 200]\n",
    "                    elif \"300\" in scaling:\n",
    "                        cmap_minmax=[-300, 300]\n",
    "                    elif \"400\" in scaling:\n",
    "                        cmap_minmax=[-400, 400]\n",
    "                    else:\n",
    "                        cmap_minmax=[]\n",
    "                else:\n",
    "                    cmap_minmax=[]\n",
    "\n",
    "                kf.plot_embedding(\n",
    "                    embedding=embedding,\n",
    "                    data=cleaned_data,\n",
    "                    scale_points = True,\n",
    "                    cmap_var=var,\n",
    "                    cmap_minmax=cmap_minmax,\n",
    "                    save=True,\n",
    "                    title=f\"{n_neighbors}_{min_dist}_{scaling}_{var}\",\n",
    "                    figname=f\"{n_neighbors}_{min_dist}_{scaling}_{var}\",\n",
    "                    figpath=figpath,\n",
    "                    view=(None, None)\n",
    "                )\n",
    "                \n",
    "            "
   ]
  }
 ],
 "metadata": {
  "kernelspec": {
   "display_name": "Python 3",
   "language": "python",
   "name": "python3"
  },
  "language_info": {
   "codemirror_mode": {
    "name": "ipython",
    "version": 3
   },
   "file_extension": ".py",
   "mimetype": "text/x-python",
   "name": "python",
   "nbconvert_exporter": "python",
   "pygments_lexer": "ipython3",
   "version": "3.8.8"
  }
 },
 "nbformat": 4,
 "nbformat_minor": 5
}
