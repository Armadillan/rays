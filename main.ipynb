{
 "cells": [
  {
   "cell_type": "code",
   "execution_count": 2,
   "id": "rotary-soccer",
   "metadata": {},
   "outputs": [],
   "source": [
    "import os\n",
    "import time\n",
    "\n",
    "import pandas as pd\n",
    "import numpy as np\n",
    "import matplotlib.pyplot as plt\n",
    "import seaborn as sns\n",
    "\n",
    "import keyfi as kf\n",
    "from keyfi.dimred import UMAP\n",
    "from keyfi.cluster import HDBSCAN\n"
   ]
  },
  {
   "cell_type": "markdown",
   "id": "homeless-finder",
   "metadata": {},
   "source": [
    "params"
   ]
  },
  {
   "cell_type": "code",
   "execution_count": 9,
   "id": "attempted-copying",
   "metadata": {},
   "outputs": [],
   "source": [
    "DATA_PATH = \"/home/azureuser/project/data/plane\"\n",
    "SNAPSHOT = \"285140.078369\"\n",
    "\n",
    "#savepaths\n",
    "figpath=\"/home/azureuser/project/figures/test\"\n",
    "embedding_path = os.path.join(\"/home/azureuser/project/data/embeddings\", SNAPSHOT)\n",
    "\n",
    "os.makedirs(figpath, exist_ok=True)\n",
    "os.makedirs(embedding_path, exist_ok=True)"
   ]
  },
  {
   "cell_type": "markdown",
   "id": "sticky-scientist",
   "metadata": {},
   "source": [
    "helper functions"
   ]
  },
  {
   "cell_type": "code",
   "execution_count": 5,
   "id": "fifteen-declaration",
   "metadata": {},
   "outputs": [],
   "source": [
    "def get_data(snapshot):\n",
    "    return kf.import_vtk_data(\n",
    "        os.path.join(DATA_PATH, snapshot, \"data.vtk\")\n",
    "    )"
   ]
  },
  {
   "cell_type": "markdown",
   "id": "other-handling",
   "metadata": {},
   "source": [
    "data prep"
   ]
  },
  {
   "cell_type": "code",
   "execution_count": 6,
   "id": "unknown-hydrogen",
   "metadata": {},
   "outputs": [
    {
     "name": "stdout",
     "output_type": "stream",
     "text": [
      "            T      N2O4    N2       NO2       rho      Qdot       U:0  \\\n",
      "0  299.994415  0.747802  0.05  0.202198  2.839309 -1.619457  0.006443   \n",
      "1  299.999786  0.747809  0.05  0.202191  2.839273  1.347651  0.009065   \n",
      "2  300.000031  0.747810  0.05  0.202190  2.839273 -4.644562  0.005039   \n",
      "3  300.004242  0.747824  0.05  0.202176  2.839263  0.473055  0.001704   \n",
      "4  299.994385  0.747803  0.05  0.202197  2.839310 -2.447919  0.009460   \n",
      "\n",
      "        U:1       U:2  \n",
      "0 -0.000145  0.000348  \n",
      "1 -0.000294  0.000466  \n",
      "2 -0.000062  0.000203  \n",
      "3 -0.000006  0.000202  \n",
      "4 -0.000088  0.000608  \n"
     ]
    },
    {
     "data": {
      "text/plain": [
       "Index(['T', 'N2O4', 'Qdot', 'U:0', 'U:1'], dtype='object')"
      ]
     },
     "execution_count": 6,
     "metadata": {},
     "output_type": "execute_result"
    }
   ],
   "source": [
    "df, mesh = get_data(SNAPSHOT)\n",
    "\n",
    "cleaned_data = kf.clean_data(df, dim=2,\n",
    "                             vars_to_drop=[\"N2\", \"NO2\", \"rho\"]\n",
    "                            )\n",
    "\n",
    "variables = cleaned_data.columns\n",
    "\n",
    "print(df.head())\n",
    "variables"
   ]
  },
  {
   "cell_type": "markdown",
   "id": "embedded-reaction",
   "metadata": {},
   "source": [
    "UMAP params"
   ]
  },
  {
   "cell_type": "code",
   "execution_count": 7,
   "id": "indie-monte",
   "metadata": {},
   "outputs": [],
   "source": [
    "n_neighbors_range = [50, 100, 150, 200, 250, 300, 350, 400]\n",
    "min_dist_range = [0.05, 0.1, 0.15]"
   ]
  },
  {
   "cell_type": "markdown",
   "id": "geographic-insertion",
   "metadata": {},
   "source": [
    "dimensionality reduction"
   ]
  },
  {
   "cell_type": "code",
   "execution_count": null,
   "id": "external-start",
   "metadata": {},
   "outputs": [
    {
     "name": "stdout",
     "output_type": "stream",
     "text": [
      "Starting embedding\n",
      "50 0.05\n",
      "loaded from existing\n",
      "time: 0.0013496875762939453\n",
      "50 0.1\n",
      "loaded from existing\n",
      "time: 0.0011224746704101562\n",
      "50 0.15\n",
      "loaded from existing\n",
      "time: 0.0007863044738769531\n",
      "100 0.05\n",
      "loaded from existing\n",
      "time: 0.0006401538848876953\n",
      "100 0.1\n",
      "loaded from existing\n",
      "time: 0.000640869140625\n",
      "100 0.15\n",
      "loaded from existing\n",
      "time: 0.0009827613830566406\n",
      "150 0.05\n",
      "loaded from existing\n",
      "time: 0.0010030269622802734\n",
      "150 0.1\n",
      "loaded from existing\n",
      "time: 0.0009617805480957031\n",
      "150 0.15\n",
      "loaded from existing\n",
      "time: 0.0009753704071044922\n",
      "200 0.05\n",
      "time: 118.36742925643921\n",
      "200 0.1\n",
      "time: 103.94423866271973\n",
      "200 0.15\n"
     ]
    }
   ],
   "source": [
    "print(\"Starting embedding\")\n",
    "saved_embeddings = os.listdir(embedding_path)\n",
    "\n",
    "for n_neighbors in n_neighbors_range:\n",
    "    for min_dist in min_dist_range:\n",
    "\n",
    "        start_time = time.time()\n",
    "\n",
    "        print(n_neighbors, min_dist)\n",
    "\n",
    "        if f\"{n_neighbors}_{min_dist}.npy\" in saved_embeddings:\n",
    "            embedding = np.load(\n",
    "                os.path.join(embedding_path, f\"{n_neighbors}_{min_dist}.npy\")\n",
    "                )\n",
    "            print(\"loaded from existing\")\n",
    "\n",
    "        else:\n",
    "\n",
    "            embedding, mapper = kf.embed_data(\n",
    "                data=cleaned_data,\n",
    "                algorithm=UMAP,\n",
    "                scale=True,\n",
    "                n_neighbors=n_neighbors,\n",
    "                min_dist=min_dist,\n",
    "                #ensures reproducibility, disable for faster compute\n",
    "                # random_state=0,\n",
    "                #how many dimensions to reduce to\n",
    "                n_components=2,\n",
    "            )\n",
    "\n",
    "            np.save(\n",
    "                os.path.join(embedding_path, f\"{n_neighbors}_{min_dist}\"),\n",
    "                embedding\n",
    "            )\n",
    "            \n",
    "        print(\"time:\", time.time()-start_time)"
   ]
  },
  {
   "cell_type": "markdown",
   "id": "cutting-boutique",
   "metadata": {},
   "source": [
    "figure creation"
   ]
  },
  {
   "cell_type": "code",
   "execution_count": null,
   "id": "united-elimination",
   "metadata": {},
   "outputs": [
    {
     "name": "stdout",
     "output_type": "stream",
     "text": [
      "50 0.05\n",
      "50 0.1\n",
      "50 0.15\n"
     ]
    }
   ],
   "source": [
    "for n_neighbors in n_neighbors_range:\n",
    "    for min_dist in min_dist_range:\n",
    "\n",
    "        print(n_neighbors, min_dist)\n",
    "\n",
    "        for var in variables:\n",
    "\n",
    "            if var == \"Qdot\":\n",
    "                cmap_minmax=(-300, 300)\n",
    "            else:\n",
    "                cmap_minmax=[]\n",
    "\n",
    "            kf.plot_embedding(\n",
    "                embedding=embedding,\n",
    "                data=cleaned_data,\n",
    "                scale_points = True,\n",
    "                cmap_var=var,\n",
    "                cmap_minmax=cmap_minmax,\n",
    "                save=True,\n",
    "                title=f\"{n_neighbors}_{min_dist}_{var}\",\n",
    "                figname=f\"{n_neighbors}_{min_dist}_{var}\",\n",
    "                figpath=figpath,\n",
    "                view=(None, None)\n",
    "            )"
   ]
  },
  {
   "cell_type": "code",
   "execution_count": null,
   "id": "pacific-collective",
   "metadata": {},
   "outputs": [],
   "source": []
  }
 ],
 "metadata": {
  "kernelspec": {
   "display_name": "Python 3",
   "language": "python",
   "name": "python3"
  },
  "language_info": {
   "codemirror_mode": {
    "name": "ipython",
    "version": 3
   },
   "file_extension": ".py",
   "mimetype": "text/x-python",
   "name": "python",
   "nbconvert_exporter": "python",
   "pygments_lexer": "ipython3",
   "version": "3.8.8"
  }
 },
 "nbformat": 4,
 "nbformat_minor": 5
}
