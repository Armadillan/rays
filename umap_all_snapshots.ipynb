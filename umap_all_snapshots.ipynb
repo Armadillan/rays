{
 "cells": [
  {
   "cell_type": "code",
   "execution_count": 1,
   "id": "negative-yahoo",
   "metadata": {},
   "outputs": [],
   "source": [
    "import os\n",
    "import time\n",
    "from io import StringIO\n",
    "\n",
    "import pandas as pd\n",
    "import numpy as np\n",
    "import matplotlib.pyplot as plt\n",
    "import seaborn as sns\n",
    "\n",
    "import keyfi as kf\n",
    "from keyfi.dimred import UMAP\n",
    "from keyfi.cluster import HDBSCAN\n",
    "\n",
    "from sklearn.preprocessing import MaxAbsScaler\n"
   ]
  },
  {
   "cell_type": "code",
   "execution_count": 2,
   "id": "owned-professional",
   "metadata": {},
   "outputs": [],
   "source": [
    "n_neighbors = 250\n",
    "min_dist = 0.1\n",
    "qdot_clip = 300"
   ]
  },
  {
   "cell_type": "code",
   "execution_count": 3,
   "id": "extraordinary-arlington",
   "metadata": {},
   "outputs": [],
   "source": [
    "DATA_PATH = \"/home/azureuser/project/data/plane\"\n",
    "\n",
    "embeddings_path = os.path.join(\"/home/azureuser/project/data/embeddings/all_snapshots_N2O4_not_scaled\", f\"{n_neighbors}_{min_dist}_{qdot_clip}c\")\n",
    "\n",
    "logfile = \"/home/azureuser/project/all_snapshots_N2O4_not_scaled.log\"\n",
    "\n",
    "os.makedirs(embeddings_path, exist_ok=True)\n",
    "\n",
    "saved_embeddings = os.listdir(embeddings_path)\n",
    "\n",
    "num_snapshots = len(os.listdir(DATA_PATH))"
   ]
  },
  {
   "cell_type": "code",
   "execution_count": 4,
   "id": "floating-denver",
   "metadata": {},
   "outputs": [],
   "source": [
    "def get_data(snapshot):\n",
    "    return kf.import_vtk_data(\n",
    "        os.path.join(DATA_PATH, snapshot, \"data.vtk\")\n",
    "    )\n",
    "\n",
    "def log(*msg):\n",
    "    with open(logfile, \"a\") as file:\n",
    "        print(*msg, file=file)"
   ]
  },
  {
   "cell_type": "code",
   "execution_count": 7,
   "id": "insured-commons",
   "metadata": {},
   "outputs": [],
   "source": [
    "features_to_scale = ['T', 'Qdot', ['U:0', 'U:1']]\n",
    "scalers = [MaxAbsScaler] * 3"
   ]
  },
  {
   "cell_type": "code",
   "execution_count": null,
   "id": "invisible-occasion",
   "metadata": {},
   "outputs": [
    {
     "name": "stdout",
     "output_type": "stream",
     "text": [
      "285573.578369\n"
     ]
    }
   ],
   "source": [
    "for index, snapshot in enumerate(os.listdir(DATA_PATH)):\n",
    "    if index % 2 == 0:\n",
    "        start_time = time.time()\n",
    "        #data prep\n",
    "        df, mesh = get_data(snapshot)\n",
    "\n",
    "        data = kf.clean_data(df, dim=2,\n",
    "                                 vars_to_drop=[\"N2\", \"NO2\", \"rho\"]\n",
    "                                )\n",
    "        data[\"Qdot\"].clip(-qdot_clip, qdot_clip)\n",
    "\n",
    "        data = kf.scale_data(data, features_to_scale, scalers)\n",
    "\n",
    "        log(snapshot)\n",
    "        print(snapshot)\n",
    "\n",
    "        if f\"{snapshot}.npy\" in saved_embeddings:\n",
    "            embedding = np.load(\n",
    "                os.path.join(embeddings_path, f\"{snapshot}.npy\")\n",
    "                )\n",
    "            log(\"loaded from existing\")\n",
    "            print(\"loaded from existing\")\n",
    "\n",
    "        else:\n",
    "            embedding, mapper = kf.embed_data(\n",
    "                data=data,\n",
    "                algorithm=UMAP,\n",
    "                n_neighbors=n_neighbors,\n",
    "                min_dist=min_dist,\n",
    "                #reproducible\n",
    "                #random_state=0,\n",
    "                n_components=2,\n",
    "            )\n",
    "\n",
    "            np.save(\n",
    "                os.path.join(embeddings_path, f\"{snapshot}\"),\n",
    "                embedding\n",
    "            )\n",
    "        log(\"time:\", time.time()-start_time)\n",
    "        log(f\"{100*(index+1)/num_snapshots:.2f}%\")\n",
    "        print(\"time:\", time.time()-start_time)\n",
    "        print(f\"{100*(index+1)/num_snapshots:.2f}%\")"
   ]
  },
  {
   "cell_type": "code",
   "execution_count": null,
   "id": "innocent-central",
   "metadata": {},
   "outputs": [],
   "source": []
  }
 ],
 "metadata": {
  "kernelspec": {
   "display_name": "Python 3",
   "language": "python",
   "name": "python3"
  },
  "language_info": {
   "codemirror_mode": {
    "name": "ipython",
    "version": 3
   },
   "file_extension": ".py",
   "mimetype": "text/x-python",
   "name": "python",
   "nbconvert_exporter": "python",
   "pygments_lexer": "ipython3",
   "version": "3.8.8"
  }
 },
 "nbformat": 4,
 "nbformat_minor": 5
}
